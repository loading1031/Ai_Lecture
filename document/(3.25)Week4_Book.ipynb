{
 "cells": [
  {
   "cell_type": "markdown",
   "metadata": {},
   "source": [
    "# 복습"
   ]
  },
  {
   "cell_type": "markdown",
   "metadata": {},
   "source": [
    "### 개념 정리"
   ]
  },
  {
   "cell_type": "code",
   "execution_count": null,
   "metadata": {
    "vscode": {
     "languageId": "plaintext"
    }
   },
   "outputs": [],
   "source": [
    "머신러닝 : label은 숫자가 아니더라도 (문자열 등) 분류가 가능  \n",
    "  \n",
    "딥러닝 : class를 숫자만 인식할 수 있다. -> 문자열 등의 값들은 모두 숫자로 변환(one-hot-encoding을 이용)  \n",
    "  \n",
    "one-hot-encoding : 모두 숫자로 바꾸면, 소 : 1, 개 : 2, 고양이 : 3이 주어졌을 때,   \n",
    "소와 개가 소와 고양이 보다 가깝다고 분석할 수 있다. 이것을 방지하기 위해 one-hot-encoiding을 이용한다. \n",
    "\n",
    "회귀(140p) : 일반적으로 데이터들을 2차원 공간에 찍은 후에 이들 데이터들을 가장 잘 설명하는 직선이나 곡선을 찾는 문제 "
   ]
  },
  {
   "cell_type": "markdown",
   "metadata": {},
   "source": [
    "### 데이터 수집 과정(전처리 과정)"
   ]
  },
  {
   "cell_type": "markdown",
   "metadata": {},
   "source": [
    "1. 결측치 제거\n",
    "2. outlinear 제거\n",
    "3. data balancing(데이터 bias 제거)"
   ]
  },
  {
   "cell_type": "markdown",
   "metadata": {},
   "source": [
    "### 기타 알고리즘"
   ]
  },
  {
   "cell_type": "markdown",
   "metadata": {},
   "source": [
    "1. KNN  \n",
    "    최적의 k: k를 늘리면서 accuracy 비교.  \n",
    "    k를 늘려도 성능이 큰 차이가 없을 때가 최적의 k\n",
    "    \n",
    "2. svm(시간이 오래 걸려서 스킵)"
   ]
  },
  {
   "cell_type": "markdown",
   "metadata": {},
   "source": [
    "### 혼동행렬"
   ]
  },
  {
   "cell_type": "markdown",
   "metadata": {},
   "source": [
    "[혼동행렬 평가 기준] \n",
    "\n",
    "감도 = 재현률 = TP / (TP+FN)\n",
    "\n",
    "특이도 = TN/ (TN+FP)"
   ]
  },
  {
   "cell_type": "markdown",
   "metadata": {},
   "source": [
    "F1 Score(정밀도와 재현율의 평균) : 데이터 벨런싱을 감안한 값\n",
    "sensitivity : 데이터 벨런싱이 안돼있음.\n",
    "Recall(재현율)"
   ]
  },
  {
   "cell_type": "markdown",
   "metadata": {},
   "source": [
    "### Fitting(155p)\n",
    "\n",
    ": 단순히 overfit underfit을 구분하는게 아니라 '데이터는 안부족한지, 모델에 문제가 있는건지를 파악'\n",
    "\n",
    "1. overfitting : 모델이 복잡해서, 데이터에 너무 민감함. noise(outlinear)에도 반응함\n",
    "\n",
    "-> 모델을 단순화(feature를 줄임)\n",
    "\n",
    "2. underfitting : 데이터 표본이 작거나 모델이 단순한 경우\n",
    "\n",
    "-> 모델 자체가 적합하지 않은 경우가 많다.\n",
    "\n"
   ]
  },
  {
   "cell_type": "markdown",
   "metadata": {},
   "source": [
    "### 상관관계\n",
    "기본적으로 3이 이상은 상관 관계가 있다고 함.  \n",
    "7 이상이면, 상관 관계가 높음."
   ]
  }
 ],
 "metadata": {
  "language_info": {
   "name": "python"
  }
 },
 "nbformat": 4,
 "nbformat_minor": 2
}
