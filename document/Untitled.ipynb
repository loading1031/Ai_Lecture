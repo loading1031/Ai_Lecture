{
 "cells": [
  {
   "cell_type": "markdown",
   "id": "86c40fed",
   "metadata": {},
   "source": [
    "## 인공지능 개론 3주차 수업 정리"
   ]
  },
  {
   "cell_type": "markdown",
   "id": "0b778895",
   "metadata": {},
   "source": [
    "1. data load\n",
    "2. data clear ( 결측치, 이상치 제거)\n",
    "3. data 스케일 (정규화)"
   ]
  },
  {
   "cell_type": "markdown",
   "id": "00fdf77b",
   "metadata": {},
   "source": [
    "경사하강법은 주어진 손실함수의 최솟값을 찾기 위한 최적화 알고리즘"
   ]
  },
  {
   "cell_type": "markdown",
   "id": "79b25929",
   "metadata": {},
   "source": [
    "문제--------손실함수--------출력층 활성화 함수-----출력층 갯수\n",
    "회귀---------MSE---------------없음--------------1개\n",
    "이진분류---binary_cro---------sigmoid------------2개\n",
    "다중분류---category_cro-------softmax--------feature 갯수"
   ]
  }
 ],
 "metadata": {
  "kernelspec": {
   "display_name": "Python 3 (ipykernel)",
   "language": "python",
   "name": "python3"
  },
  "language_info": {
   "codemirror_mode": {
    "name": "ipython",
    "version": 3
   },
   "file_extension": ".py",
   "mimetype": "text/x-python",
   "name": "python",
   "nbconvert_exporter": "python",
   "pygments_lexer": "ipython3",
   "version": "3.11.5"
  }
 },
 "nbformat": 4,
 "nbformat_minor": 5
}
