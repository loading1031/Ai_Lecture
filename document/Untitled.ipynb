{
 "cells": [
  {
   "cell_type": "markdown",
   "id": "86c40fed",
   "metadata": {},
   "source": [
    "## 인공지능 개론 3주차 수업 정리"
   ]
  },
  {
   "cell_type": "code",
   "execution_count": null,
   "id": "0b778895",
   "metadata": {},
   "outputs": [],
   "source": [
    "1. data load\n",
    "2. data clear ( 결측치, 이상치 제거)\n",
    "3. data 스케일 (정규화)"
   ]
  },
  {
   "cell_type": "code",
   "execution_count": null,
   "id": "00fdf77b",
   "metadata": {},
   "outputs": [],
   "source": []
  }
 ],
 "metadata": {
  "kernelspec": {
   "display_name": "Python 3 (ipykernel)",
   "language": "python",
   "name": "python3"
  },
  "language_info": {
   "codemirror_mode": {
    "name": "ipython",
    "version": 3
   },
   "file_extension": ".py",
   "mimetype": "text/x-python",
   "name": "python",
   "nbconvert_exporter": "python",
   "pygments_lexer": "ipython3",
   "version": "3.11.5"
  }
 },
 "nbformat": 4,
 "nbformat_minor": 5
}
