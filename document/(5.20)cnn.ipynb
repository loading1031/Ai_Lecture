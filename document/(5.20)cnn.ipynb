{
 "cells": [
  {
   "cell_type": "markdown",
   "metadata": {},
   "source": [
    "문제 : 기존 dense는 이미지를 평탄화 작업하여 각 픽셀들의 local 관계를 망가뜨리게 된다.\n",
    "해결책 : cnn은 고양이 시각을 참고하여 이를 해결하였다. \n",
    "(cnn은 dense layer를 안쓰는건 아니다. 마지막에 두 번 쓴다)"
   ]
  },
  {
   "cell_type": "markdown",
   "metadata": {},
   "source": [
    "컨폴루션 신경만 생성\n",
    "처음에는 커널 갯수는 a a a 로 ㅎ해도 되고\n",
    "커널 갯수는 a 2a 3a 처럼 증가하거나 배율로 감소하는게 좋음\n",
    "\n",
    "2a a 3a 처럼 중간이 줄어드는 병목 현상은 안좋음"
   ]
  },
  {
   "cell_type": "markdown",
   "metadata": {},
   "source": [
    "cnn을 기존처럼 x, y를 나누고 x를 때려 넣으면 cnn의 의미가 없음\n",
    "\n",
    "그래서 split.sequence를 이용해서 국소적으로 나눈다."
   ]
  }
 ],
 "metadata": {
  "language_info": {
   "name": "python"
  }
 },
 "nbformat": 4,
 "nbformat_minor": 2
}
