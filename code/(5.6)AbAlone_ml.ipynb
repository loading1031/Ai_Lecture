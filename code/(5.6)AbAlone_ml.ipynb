{
 "cells": [
  {
   "cell_type": "markdown",
   "metadata": {},
   "source": [
    "1. 데이터 읽기\n",
    "\n",
    "2. 결측치 확인\n",
    "\n",
    "3. 클래스 갯수 확인 (그래프, 레이블 갯수)\n",
    "\n",
    "4. StandardScale를 사용\n",
    "\n",
    "5. 필요한 경우 Encoding\n",
    "\n",
    "6. 함수형 모델 반드시 사용 (DL의 경우, p.265)\n",
    "\n",
    "7. ML/ DL Regression 각각\n",
    "\n",
    "8. Gibhub 업로드"
   ]
  },
  {
   "cell_type": "markdown",
   "metadata": {},
   "source": [
    "### 1. 데이터 읽기"
   ]
  },
  {
   "cell_type": "code",
   "execution_count": 2,
   "metadata": {},
   "outputs": [
    {
     "data": {
      "text/html": [
       "<div>\n",
       "<style scoped>\n",
       "    .dataframe tbody tr th:only-of-type {\n",
       "        vertical-align: middle;\n",
       "    }\n",
       "\n",
       "    .dataframe tbody tr th {\n",
       "        vertical-align: top;\n",
       "    }\n",
       "\n",
       "    .dataframe thead th {\n",
       "        text-align: right;\n",
       "    }\n",
       "</style>\n",
       "<table border=\"1\" class=\"dataframe\">\n",
       "  <thead>\n",
       "    <tr style=\"text-align: right;\">\n",
       "      <th></th>\n",
       "      <th>Sex</th>\n",
       "      <th>Length</th>\n",
       "      <th>Diam</th>\n",
       "      <th>Height</th>\n",
       "      <th>Whole</th>\n",
       "      <th>Shucked</th>\n",
       "      <th>Viscera</th>\n",
       "      <th>Shell</th>\n",
       "      <th>Rings</th>\n",
       "    </tr>\n",
       "  </thead>\n",
       "  <tbody>\n",
       "    <tr>\n",
       "      <th>0</th>\n",
       "      <td>M</td>\n",
       "      <td>0.455</td>\n",
       "      <td>0.365</td>\n",
       "      <td>0.095</td>\n",
       "      <td>0.5140</td>\n",
       "      <td>0.2245</td>\n",
       "      <td>0.1010</td>\n",
       "      <td>0.1500</td>\n",
       "      <td>15</td>\n",
       "    </tr>\n",
       "    <tr>\n",
       "      <th>1</th>\n",
       "      <td>M</td>\n",
       "      <td>0.350</td>\n",
       "      <td>0.265</td>\n",
       "      <td>0.090</td>\n",
       "      <td>0.2255</td>\n",
       "      <td>0.0995</td>\n",
       "      <td>0.0485</td>\n",
       "      <td>0.0700</td>\n",
       "      <td>7</td>\n",
       "    </tr>\n",
       "    <tr>\n",
       "      <th>2</th>\n",
       "      <td>F</td>\n",
       "      <td>0.530</td>\n",
       "      <td>0.420</td>\n",
       "      <td>0.135</td>\n",
       "      <td>0.6770</td>\n",
       "      <td>0.2565</td>\n",
       "      <td>0.1415</td>\n",
       "      <td>0.2100</td>\n",
       "      <td>9</td>\n",
       "    </tr>\n",
       "    <tr>\n",
       "      <th>3</th>\n",
       "      <td>M</td>\n",
       "      <td>0.440</td>\n",
       "      <td>0.365</td>\n",
       "      <td>0.125</td>\n",
       "      <td>0.5160</td>\n",
       "      <td>0.2155</td>\n",
       "      <td>0.1140</td>\n",
       "      <td>0.1550</td>\n",
       "      <td>10</td>\n",
       "    </tr>\n",
       "    <tr>\n",
       "      <th>4</th>\n",
       "      <td>I</td>\n",
       "      <td>0.330</td>\n",
       "      <td>0.255</td>\n",
       "      <td>0.080</td>\n",
       "      <td>0.2050</td>\n",
       "      <td>0.0895</td>\n",
       "      <td>0.0395</td>\n",
       "      <td>0.0550</td>\n",
       "      <td>7</td>\n",
       "    </tr>\n",
       "    <tr>\n",
       "      <th>...</th>\n",
       "      <td>...</td>\n",
       "      <td>...</td>\n",
       "      <td>...</td>\n",
       "      <td>...</td>\n",
       "      <td>...</td>\n",
       "      <td>...</td>\n",
       "      <td>...</td>\n",
       "      <td>...</td>\n",
       "      <td>...</td>\n",
       "    </tr>\n",
       "    <tr>\n",
       "      <th>4172</th>\n",
       "      <td>F</td>\n",
       "      <td>0.565</td>\n",
       "      <td>0.450</td>\n",
       "      <td>0.165</td>\n",
       "      <td>0.8870</td>\n",
       "      <td>0.3700</td>\n",
       "      <td>0.2390</td>\n",
       "      <td>0.2490</td>\n",
       "      <td>11</td>\n",
       "    </tr>\n",
       "    <tr>\n",
       "      <th>4173</th>\n",
       "      <td>M</td>\n",
       "      <td>0.590</td>\n",
       "      <td>0.440</td>\n",
       "      <td>0.135</td>\n",
       "      <td>0.9660</td>\n",
       "      <td>0.4390</td>\n",
       "      <td>0.2145</td>\n",
       "      <td>0.2605</td>\n",
       "      <td>10</td>\n",
       "    </tr>\n",
       "    <tr>\n",
       "      <th>4174</th>\n",
       "      <td>M</td>\n",
       "      <td>0.600</td>\n",
       "      <td>0.475</td>\n",
       "      <td>0.205</td>\n",
       "      <td>1.1760</td>\n",
       "      <td>0.5255</td>\n",
       "      <td>0.2875</td>\n",
       "      <td>0.3080</td>\n",
       "      <td>9</td>\n",
       "    </tr>\n",
       "    <tr>\n",
       "      <th>4175</th>\n",
       "      <td>F</td>\n",
       "      <td>0.625</td>\n",
       "      <td>0.485</td>\n",
       "      <td>0.150</td>\n",
       "      <td>1.0945</td>\n",
       "      <td>0.5310</td>\n",
       "      <td>0.2610</td>\n",
       "      <td>0.2960</td>\n",
       "      <td>10</td>\n",
       "    </tr>\n",
       "    <tr>\n",
       "      <th>4176</th>\n",
       "      <td>M</td>\n",
       "      <td>0.710</td>\n",
       "      <td>0.555</td>\n",
       "      <td>0.195</td>\n",
       "      <td>1.9485</td>\n",
       "      <td>0.9455</td>\n",
       "      <td>0.3765</td>\n",
       "      <td>0.4950</td>\n",
       "      <td>12</td>\n",
       "    </tr>\n",
       "  </tbody>\n",
       "</table>\n",
       "<p>4177 rows × 9 columns</p>\n",
       "</div>"
      ],
      "text/plain": [
       "     Sex  Length   Diam  Height   Whole  Shucked  Viscera   Shell  Rings\n",
       "0      M   0.455  0.365   0.095  0.5140   0.2245   0.1010  0.1500     15\n",
       "1      M   0.350  0.265   0.090  0.2255   0.0995   0.0485  0.0700      7\n",
       "2      F   0.530  0.420   0.135  0.6770   0.2565   0.1415  0.2100      9\n",
       "3      M   0.440  0.365   0.125  0.5160   0.2155   0.1140  0.1550     10\n",
       "4      I   0.330  0.255   0.080  0.2050   0.0895   0.0395  0.0550      7\n",
       "...   ..     ...    ...     ...     ...      ...      ...     ...    ...\n",
       "4172   F   0.565  0.450   0.165  0.8870   0.3700   0.2390  0.2490     11\n",
       "4173   M   0.590  0.440   0.135  0.9660   0.4390   0.2145  0.2605     10\n",
       "4174   M   0.600  0.475   0.205  1.1760   0.5255   0.2875  0.3080      9\n",
       "4175   F   0.625  0.485   0.150  1.0945   0.5310   0.2610  0.2960     10\n",
       "4176   M   0.710  0.555   0.195  1.9485   0.9455   0.3765  0.4950     12\n",
       "\n",
       "[4177 rows x 9 columns]"
      ]
     },
     "execution_count": 2,
     "metadata": {},
     "output_type": "execute_result"
    }
   ],
   "source": [
    "import pandas as pd\n",
    "import tensorflow as tf\n",
    "from tensorflow import keras\n",
    "\n",
    "file_path =\"../data/abalone/abalone.data\"\n",
    "\n",
    "# 데이터 열 이름 예시 (실제 데이터에 맞게 조정 필요)\n",
    "column_names = ['Sex', 'Length',\t'Diam',\t'Height',\t'Whole',\t'Shucked',\t'Viscera',\t'Shell', 'Rings']\n",
    "\n",
    "\n",
    "df = pd.read_csv(file_path,header=None,names=column_names)\n",
    "df"
   ]
  },
  {
   "cell_type": "markdown",
   "metadata": {},
   "source": [
    "### 2. 결측치 확인"
   ]
  },
  {
   "cell_type": "code",
   "execution_count": 4,
   "metadata": {},
   "outputs": [
    {
     "data": {
      "text/plain": [
       "Sex        0\n",
       "Length     0\n",
       "Diam       0\n",
       "Height     0\n",
       "Whole      0\n",
       "Shucked    0\n",
       "Viscera    0\n",
       "Shell      0\n",
       "Rings      0\n",
       "dtype: int64"
      ]
     },
     "execution_count": 4,
     "metadata": {},
     "output_type": "execute_result"
    }
   ],
   "source": [
    "# 결측치 확인\n",
    "df.isnull().sum()"
   ]
  },
  {
   "cell_type": "markdown",
   "metadata": {},
   "source": [
    "### 3. 클래스 갯수 확인(그래프, 레이블 갯수)"
   ]
  },
  {
   "cell_type": "code",
   "execution_count": 5,
   "metadata": {},
   "outputs": [
    {
     "data": {
      "text/plain": [
       "Rings\n",
       "9     689\n",
       "10    634\n",
       "8     568\n",
       "11    487\n",
       "7     391\n",
       "12    267\n",
       "6     259\n",
       "13    203\n",
       "14    126\n",
       "5     115\n",
       "15    103\n",
       "16     67\n",
       "17     58\n",
       "4      57\n",
       "18     42\n",
       "19     32\n",
       "20     26\n",
       "3      15\n",
       "21     14\n",
       "23      9\n",
       "22      6\n",
       "27      2\n",
       "24      2\n",
       "1       1\n",
       "26      1\n",
       "29      1\n",
       "2       1\n",
       "25      1\n",
       "Name: count, dtype: int64"
      ]
     },
     "execution_count": 5,
     "metadata": {},
     "output_type": "execute_result"
    }
   ],
   "source": [
    "df['Rings'].value_counts()"
   ]
  },
  {
   "cell_type": "code",
   "execution_count": 8,
   "metadata": {},
   "outputs": [
    {
     "data": {
      "text/plain": [
       "Text(0.5, 1.0, 'Label')"
      ]
     },
     "execution_count": 8,
     "metadata": {},
     "output_type": "execute_result"
    },
    {
     "data": {
      "image/png": "[encoded data removed]",
      "text/plain": [
       "<Figure size 640x480 with 1 Axes>"
      ]
     },
     "metadata": {},
     "output_type": "display_data"
    }
   ],
   "source": [
    "import seaborn as sns\n",
    "import matplotlib.pyplot as plt\n",
    "# 레이블 갯수 확인 (그래프)\n",
    "sns.countplot(data = df, x=\"Rings\")\n",
    "plt.xlabel(\"Age\")\n",
    "plt.ylabel(\"Count\")\n",
    "plt.title(\"Label\")"
   ]
  },
  {
   "cell_type": "markdown",
   "metadata": {},
   "source": [
    "### 4. StandardScale를 사용"
   ]
  },
  {
   "cell_type": "code",
   "execution_count": 12,
   "metadata": {},
   "outputs": [
    {
     "data": {
      "text/plain": [
       "array([[-0.57455813, -0.43214879, -1.06442415, ...,  0.        ,\n",
       "         0.        ,  1.        ],\n",
       "       [-1.44898585, -1.439929  , -1.18397831, ...,  0.        ,\n",
       "         0.        ,  1.        ],\n",
       "       [ 0.05003309,  0.12213032, -0.10799087, ...,  1.        ,\n",
       "         0.        ,  0.        ],\n",
       "       ...,\n",
       "       [ 0.6329849 ,  0.67640943,  1.56576738, ...,  0.        ,\n",
       "         0.        ,  1.        ],\n",
       "       [ 0.84118198,  0.77718745,  0.25067161, ...,  1.        ,\n",
       "         0.        ,  0.        ],\n",
       "       [ 1.54905203,  1.48263359,  1.32665906, ...,  0.        ,\n",
       "         0.        ,  1.        ]])"
      ]
     },
     "execution_count": 12,
     "metadata": {},
     "output_type": "execute_result"
    }
   ],
   "source": [
    "from sklearn.preprocessing import StandardScaler, OneHotEncoder\n",
    "from sklearn.compose import ColumnTransformer\n",
    "# ColumnTransformer를 사용하여 수치형 데이터에 StandardScaler, 범주형 데이터에 OneHotEncoder 적용\n",
    "preprocessor = ColumnTransformer(\n",
    "    transformers=[\n",
    "        ('num', StandardScaler(), ['Length', 'Diam', 'Height', 'Whole', 'Shucked', 'Viscera', 'Shell']),\n",
    "        ('cat', OneHotEncoder(), ['Sex'])\n",
    "    ])\n",
    "\n",
    "# 전체 데이터에 전처리 적용\n",
    "df_transformed = preprocessor.fit_transform(df.drop('Rings', axis=1))\n",
    "df_transformed\n"
   ]
  },
  {
   "cell_type": "markdown",
   "metadata": {},
   "source": [
    "### 6. 함수형 모델 반드시 사용 (DL의 경우, p.265)"
   ]
  },
  {
   "cell_type": "code",
   "execution_count": 13,
   "metadata": {},
   "outputs": [
    {
     "name": "stdout",
     "output_type": "stream",
     "text": [
      "Model: \"model\"\n",
      "_________________________________________________________________\n",
      " Layer (type)                Output Shape              Param #   \n",
      "=================================================================\n",
      " input_1 (InputLayer)        [(None, 10)]              0         \n",
      "                                                                 \n",
      " dense (Dense)               (None, 128)               1408      \n",
      "                                                                 \n",
      " dense_1 (Dense)             (None, 64)                8256      \n",
      "                                                                 \n",
      " dense_2 (Dense)             (None, 1)                 65        \n",
      "                                                                 \n",
      "=================================================================\n",
      "Total params: 9,729\n",
      "Trainable params: 9,729\n",
      "Non-trainable params: 0\n",
      "_________________________________________________________________\n"
     ]
    }
   ],
   "source": [
    "from keras.models import Model\n",
    "from keras.layers import Input, Dense\n",
    "from keras.optimizers import Adam\n",
    "\n",
    "# 모델 입력 및 출력 차원 설정\n",
    "input_dim = df_transformed.shape[1]  # 입력 데이터의 특성 수\n",
    "output_dim = 1  # 회귀 문제의 출력 (Rings)\n",
    "\n",
    "# 함수형 API를 사용한 모델 정의\n",
    "inputs = Input(shape=(input_dim,))\n",
    "x = Dense(128, activation='relu')(inputs)\n",
    "x = Dense(64, activation='relu')(x)\n",
    "outputs = Dense(output_dim)(x)\n",
    "\n",
    "# 모델 객체 생성\n",
    "model = Model(inputs=inputs, outputs=outputs)\n",
    "\n",
    "# 모델 컴파일\n",
    "model.compile(optimizer=Adam(learning_rate=0.001), loss='mse')\n",
    "\n",
    "# 모델 요약 출력\n",
    "model.summary()"
   ]
  },
  {
   "cell_type": "code",
   "execution_count": 15,
   "metadata": {},
   "outputs": [],
   "source": [
    "from sklearn.model_selection import train_test_split\n",
    "from sklearn.metrics import mean_squared_error\n",
    "\n",
    "# 타깃 변수 설정\n",
    "y = df['Rings']\n",
    "\n",
    "# 데이터 분할\n",
    "X_train, X_test, y_train, y_test = train_test_split(df_transformed, y, test_size=0.2, random_state=42)\n"
   ]
  },
  {
   "cell_type": "markdown",
   "metadata": {},
   "source": [
    "### 7. ML Regression"
   ]
  },
  {
   "cell_type": "code",
   "execution_count": 16,
   "metadata": {},
   "outputs": [
    {
     "data": {
      "text/plain": [
       "4.89123244712858"
      ]
     },
     "execution_count": 16,
     "metadata": {},
     "output_type": "execute_result"
    }
   ],
   "source": [
    "from sklearn.linear_model import LinearRegression\n",
    "# 선형 회귀 모델 생성 및 훈련\n",
    "linear_regressor = LinearRegression()\n",
    "linear_regressor.fit(X_train, y_train)\n",
    "\n",
    "# 테스트 데이터에 대한 예측\n",
    "y_pred = linear_regressor.predict(X_test)\n",
    "\n",
    "# 성능 평가\n",
    "mean_squared_error(y_test,y_pred)"
   ]
  },
  {
   "cell_type": "code",
   "execution_count": 17,
   "metadata": {},
   "outputs": [
    {
     "data": {
      "text/plain": [
       "9.125598086124402"
      ]
     },
     "execution_count": 17,
     "metadata": {},
     "output_type": "execute_result"
    }
   ],
   "source": [
    "from sklearn.tree import DecisionTreeRegressor\n",
    "# 선형 회귀 모델 생성 및 훈련\n",
    "decision_regressor = DecisionTreeRegressor()\n",
    "decision_regressor.fit(X_train, y_train)\n",
    "\n",
    "# 테스트 데이터에 대한 예측\n",
    "y_pred = decision_regressor.predict(X_test)\n",
    "\n",
    "# 성능 평가\n",
    "mean_squared_error(y_test,y_pred)"
   ]
  },
  {
   "cell_type": "code",
   "execution_count": 18,
   "metadata": {},
   "outputs": [
    {
     "data": {
      "text/plain": [
       "5.101502153110048"
      ]
     },
     "execution_count": 18,
     "metadata": {},
     "output_type": "execute_result"
    }
   ],
   "source": [
    "from sklearn.ensemble import RandomForestRegressor\n",
    "# 선형 회귀 모델 생성 및 훈련\n",
    "rf_regressor = RandomForestRegressor()\n",
    "rf_regressor.fit(X_train, y_train)\n",
    "\n",
    "# 테스트 데이터에 대한 예측\n",
    "y_pred = rf_regressor.predict(X_test)\n",
    "\n",
    "# 성능 평가\n",
    "mean_squared_error(y_test,y_pred)"
   ]
  },
  {
   "cell_type": "code",
   "execution_count": 19,
   "metadata": {},
   "outputs": [
    {
     "data": {
      "text/plain": [
       "4.9245901617888075"
      ]
     },
     "execution_count": 19,
     "metadata": {},
     "output_type": "execute_result"
    }
   ],
   "source": [
    "from sklearn.svm import SVR\n",
    "# 선형 회귀 모델 생성 및 훈련\n",
    "svr_regressor = SVR()\n",
    "svr_regressor.fit(X_train, y_train)\n",
    "\n",
    "# 테스트 데이터에 대한 예측\n",
    "y_pred = svr_regressor.predict(X_test)\n",
    "\n",
    "# 성능 평가\n",
    "mean_squared_error(y_test,y_pred)"
   ]
  },
  {
   "cell_type": "markdown",
   "metadata": {},
   "source": [
    "### 7. DL Regression"
   ]
  },
  {
   "cell_type": "code",
   "execution_count": 20,
   "metadata": {},
   "outputs": [
    {
     "name": "stdout",
     "output_type": "stream",
     "text": [
      "Epoch 1/50\n"
     ]
    },
    {
     "name": "stderr",
     "output_type": "stream",
     "text": [
      "2024-05-13 00:02:39.833367: W tensorflow/tsl/platform/profile_utils/cpu_utils.cc:128] Failed to get CPU frequency: 0 Hz\n"
     ]
    },
    {
     "name": "stdout",
     "output_type": "stream",
     "text": [
      "84/84 [==============================] - 1s 6ms/step - loss: 44.7070 - val_loss: 13.3921\n",
      "Epoch 2/50\n",
      "84/84 [==============================] - 0s 2ms/step - loss: 9.3123 - val_loss: 4.6522\n",
      "Epoch 3/50\n",
      "84/84 [==============================] - 0s 2ms/step - loss: 6.4074 - val_loss: 4.3459\n",
      "Epoch 4/50\n",
      "84/84 [==============================] - 0s 2ms/step - loss: 5.6400 - val_loss: 4.2574\n",
      "Epoch 5/50\n",
      "84/84 [==============================] - 0s 1ms/step - loss: 5.2752 - val_loss: 4.5553\n",
      "Epoch 6/50\n",
      "84/84 [==============================] - 0s 1ms/step - loss: 5.0959 - val_loss: 4.1695\n",
      "Epoch 7/50\n",
      "84/84 [==============================] - 0s 1ms/step - loss: 4.9246 - val_loss: 4.0920\n",
      "Epoch 8/50\n",
      "84/84 [==============================] - 0s 2ms/step - loss: 4.8211 - val_loss: 4.0403\n",
      "Epoch 9/50\n",
      "84/84 [==============================] - 0s 2ms/step - loss: 4.7536 - val_loss: 3.9745\n",
      "Epoch 10/50\n",
      "84/84 [==============================] - 0s 2ms/step - loss: 4.6704 - val_loss: 3.9836\n",
      "Epoch 11/50\n",
      "84/84 [==============================] - 0s 2ms/step - loss: 4.6665 - val_loss: 3.8906\n",
      "Epoch 12/50\n",
      "84/84 [==============================] - 0s 2ms/step - loss: 4.5486 - val_loss: 4.0539\n",
      "Epoch 13/50\n",
      "84/84 [==============================] - 0s 2ms/step - loss: 4.5967 - val_loss: 4.0750\n",
      "Epoch 14/50\n",
      "84/84 [==============================] - 0s 2ms/step - loss: 4.5746 - val_loss: 4.0031\n",
      "Epoch 15/50\n",
      "84/84 [==============================] - 0s 2ms/step - loss: 4.5514 - val_loss: 3.9096\n",
      "Epoch 16/50\n",
      "84/84 [==============================] - 0s 2ms/step - loss: 4.5071 - val_loss: 3.9050\n",
      "Epoch 17/50\n",
      "84/84 [==============================] - 0s 3ms/step - loss: 4.5397 - val_loss: 4.0427\n",
      "Epoch 18/50\n",
      "84/84 [==============================] - 0s 2ms/step - loss: 4.4886 - val_loss: 3.8476\n",
      "Epoch 19/50\n",
      "84/84 [==============================] - 0s 2ms/step - loss: 4.4878 - val_loss: 3.9173\n",
      "Epoch 20/50\n",
      "84/84 [==============================] - 0s 2ms/step - loss: 4.4450 - val_loss: 3.9173\n",
      "Epoch 21/50\n",
      "84/84 [==============================] - 0s 2ms/step - loss: 4.4178 - val_loss: 3.8204\n",
      "Epoch 22/50\n",
      "84/84 [==============================] - 0s 2ms/step - loss: 4.4469 - val_loss: 3.9694\n",
      "Epoch 23/50\n",
      "84/84 [==============================] - 0s 2ms/step - loss: 4.4655 - val_loss: 3.7640\n",
      "Epoch 24/50\n",
      "84/84 [==============================] - 0s 2ms/step - loss: 4.4350 - val_loss: 3.7564\n",
      "Epoch 25/50\n",
      "84/84 [==============================] - 0s 2ms/step - loss: 4.4176 - val_loss: 4.1023\n",
      "Epoch 26/50\n",
      "84/84 [==============================] - 0s 3ms/step - loss: 4.4117 - val_loss: 3.7639\n",
      "Epoch 27/50\n",
      "84/84 [==============================] - 0s 2ms/step - loss: 4.3777 - val_loss: 3.8519\n",
      "Epoch 28/50\n",
      "84/84 [==============================] - 0s 2ms/step - loss: 4.3735 - val_loss: 3.7623\n",
      "Epoch 29/50\n",
      "84/84 [==============================] - 0s 2ms/step - loss: 4.3689 - val_loss: 3.8292\n",
      "Epoch 30/50\n",
      "84/84 [==============================] - 0s 2ms/step - loss: 4.3727 - val_loss: 3.7320\n",
      "Epoch 31/50\n",
      "84/84 [==============================] - 0s 2ms/step - loss: 4.3048 - val_loss: 3.9212\n",
      "Epoch 32/50\n",
      "84/84 [==============================] - 0s 2ms/step - loss: 4.4152 - val_loss: 3.8303\n",
      "Epoch 33/50\n",
      "84/84 [==============================] - 0s 3ms/step - loss: 4.3583 - val_loss: 3.7121\n",
      "Epoch 34/50\n",
      "84/84 [==============================] - 0s 2ms/step - loss: 4.3081 - val_loss: 3.7468\n",
      "Epoch 35/50\n",
      "84/84 [==============================] - 0s 2ms/step - loss: 4.3438 - val_loss: 3.7137\n",
      "Epoch 36/50\n",
      "84/84 [==============================] - 0s 2ms/step - loss: 4.3341 - val_loss: 4.1712\n",
      "Epoch 37/50\n",
      "84/84 [==============================] - 0s 3ms/step - loss: 4.3300 - val_loss: 3.6993\n",
      "Epoch 38/50\n",
      "84/84 [==============================] - 0s 2ms/step - loss: 4.3010 - val_loss: 3.8364\n",
      "Epoch 39/50\n",
      "84/84 [==============================] - 0s 3ms/step - loss: 4.2975 - val_loss: 3.7412\n",
      "Epoch 40/50\n",
      "84/84 [==============================] - 0s 4ms/step - loss: 4.3380 - val_loss: 3.7068\n",
      "Epoch 41/50\n",
      "84/84 [==============================] - 0s 2ms/step - loss: 4.2713 - val_loss: 3.7198\n",
      "Epoch 42/50\n",
      "84/84 [==============================] - 0s 2ms/step - loss: 4.3254 - val_loss: 3.8680\n",
      "Epoch 43/50\n",
      "84/84 [==============================] - 0s 2ms/step - loss: 4.3723 - val_loss: 4.0559\n",
      "Epoch 44/50\n",
      "84/84 [==============================] - 0s 2ms/step - loss: 4.3491 - val_loss: 3.7724\n",
      "Epoch 45/50\n",
      "84/84 [==============================] - 0s 2ms/step - loss: 4.2718 - val_loss: 3.7485\n",
      "Epoch 46/50\n",
      "84/84 [==============================] - 0s 2ms/step - loss: 4.3019 - val_loss: 3.8593\n",
      "Epoch 47/50\n",
      "84/84 [==============================] - 0s 2ms/step - loss: 4.3116 - val_loss: 3.8281\n",
      "Epoch 48/50\n",
      "84/84 [==============================] - 0s 4ms/step - loss: 4.3752 - val_loss: 4.0495\n",
      "Epoch 49/50\n",
      "84/84 [==============================] - 0s 5ms/step - loss: 4.3280 - val_loss: 3.9438\n",
      "Epoch 50/50\n",
      "84/84 [==============================] - 0s 3ms/step - loss: 4.2713 - val_loss: 3.7771\n",
      "27/27 [==============================] - 0s 665us/step\n",
      "Mean Squared Error: 4.435201448168959\n"
     ]
    }
   ],
   "source": [
    "# 모델 훈련\n",
    "history = model.fit(X_train, y_train, epochs=50, batch_size=32, validation_split=0.2)\n",
    "\n",
    "# 테스트 데이터에 대한 예측\n",
    "y_pred_dl = model.predict(X_test)\n",
    "\n",
    "# 성능 평가 (예: 평균 제곱 오차)\n",
    "from sklearn.metrics import mean_squared_error\n",
    "mse = mean_squared_error(y_test, y_pred_dl)\n",
    "print(f\"Mean Squared Error: {mse}\")\n"
   ]
  }
 ],
 "metadata": {
  "kernelspec": {
   "display_name": "base",
   "language": "python",
   "name": "python3"
  },
  "language_info": {
   "codemirror_mode": {
    "name": "ipython",
    "version": 3
   },
   "file_extension": ".py",
   "mimetype": "text/x-python",
   "name": "python",
   "nbconvert_exporter": "python",
   "pygments_lexer": "ipython3",
   "version": "3.11.5"
  }
 },
 "nbformat": 4,
 "nbformat_minor": 2
}
