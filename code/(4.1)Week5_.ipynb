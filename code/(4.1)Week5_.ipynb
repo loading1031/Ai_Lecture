{
 "cells": [
  {
   "cell_type": "markdown",
   "metadata": {},
   "source": [
    "## 인공지능개론 5주차"
   ]
  },
  {
   "cell_type": "markdown",
   "metadata": {},
   "source": [
    "회귀와 regression은 다르다.\n",
    "\n",
    "regression : 연속적인 값을 예측하는 것\n",
    "회귀는 독립변수와 종속 변수의 선형 관계를 의미한다."
   ]
  },
  {
   "cell_type": "markdown",
   "metadata": {},
   "source": [
    "### knn : 지도학습 \n",
    "레이블을 근처 k개의 데이터를 통해 찾는 방식"
   ]
  },
  {
   "cell_type": "markdown",
   "metadata": {},
   "source": [
    "### logistic regression 원리(classification으로 분류되는 이유)\n"
   ]
  },
  {
   "cell_type": "markdown",
   "metadata": {},
   "source": [
    "### decision tree 원리 (지니 계수) \n",
    "\n",
    "지니계수가 작아지도록 부모 노드를 계속 나눔\n",
    "-> 지니계수가 1이 되도록 만드는 것도 괜찮나? "
   ]
  },
  {
   "cell_type": "markdown",
   "metadata": {},
   "source": [
    "### Random Forest 원리\n",
    "decision tree를 여러번 해서 forest를 만듬 (앙상블)"
   ]
  },
  {
   "cell_type": "markdown",
   "metadata": {},
   "source": [
    "### SVM 원리"
   ]
  },
  {
   "cell_type": "markdown",
   "metadata": {},
   "source": [
    "### 인공신경망\n",
    "활성화 함수 : 기존 선형 방식으로 층을 쌓으면 층이 쌓이지 않고 선형으로 회귀된다.   \n",
    "따라서, 비선형성을 제공하는 활성화 함수를 사용해 층을 쌓는다."
   ]
  },
  {
   "cell_type": "markdown",
   "metadata": {},
   "source": [
    "### 딥러닝을 사용하기 위한 초기 세팅\n",
    "1. datagram에서 numpy로 바꿔줘야함\n",
    "2. one hot encoidng \n",
    "3. 사용하는 손실함수 - binary 엔트로피, spartial 엔트로피\n"
   ]
  },
  {
   "cell_type": "markdown",
   "metadata": {},
   "source": [
    "### 모든 가중치 수식 -> 경사하강법 수식 연관있음 (174p, 149p)\n",
    "다음 가중치는 현재 가중치,학습률,손실값,보정해야하는 값에 영향을 받음"
   ]
  },
  {
   "cell_type": "markdown",
   "metadata": {},
   "source": [
    "activate = 'sigmoid' 쓰면 됨\n",
    "\n",
    "model.add(Dense(10,input_shape=(30,),activation='tanh'))\n",
    "model.add(Dense(8,activation='tanh'))\n",
    "model.add(Dense(6,activation='tanh'))\n",
    "model.add(Dense(2,activation='softmax')) # 3개일 때 softmax 쓰는게 맞음 왼쪽 잘못됨"
   ]
  }
 ],
 "metadata": {
  "language_info": {
   "name": "python"
  }
 },
 "nbformat": 4,
 "nbformat_minor": 2
}
