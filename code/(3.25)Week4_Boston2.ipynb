{
 "cells": [
  {
   "cell_type": "markdown",
   "metadata": {},
   "source": [
    "# 보스턴 데이터 실습2\n",
    "### test,train에서 추출한 data에서 feature selection을 진행 (df는 1개인데, test,train이 여러개)"
   ]
  },
  {
   "cell_type": "code",
   "execution_count": 13,
   "metadata": {},
   "outputs": [],
   "source": [
    "#from scipy import stats  # 과학용 계산 라이브러리"
   ]
  },
  {
   "cell_type": "code",
   "execution_count": 1,
   "metadata": {},
   "outputs": [
    {
     "data": {
      "text/html": [
       "<div>\n",
       "<style scoped>\n",
       "    .dataframe tbody tr th:only-of-type {\n",
       "        vertical-align: middle;\n",
       "    }\n",
       "\n",
       "    .dataframe tbody tr th {\n",
       "        vertical-align: top;\n",
       "    }\n",
       "\n",
       "    .dataframe thead th {\n",
       "        text-align: right;\n",
       "    }\n",
       "</style>\n",
       "<table border=\"1\" class=\"dataframe\">\n",
       "  <thead>\n",
       "    <tr style=\"text-align: right;\">\n",
       "      <th></th>\n",
       "      <th>MedInc</th>\n",
       "      <th>HouseAge</th>\n",
       "      <th>AveRooms</th>\n",
       "      <th>AveBedrms</th>\n",
       "      <th>Population</th>\n",
       "      <th>AveOccup</th>\n",
       "      <th>Latitude</th>\n",
       "      <th>Longitude</th>\n",
       "      <th>PRICE</th>\n",
       "    </tr>\n",
       "  </thead>\n",
       "  <tbody>\n",
       "    <tr>\n",
       "      <th>0</th>\n",
       "      <td>8.3252</td>\n",
       "      <td>41.0</td>\n",
       "      <td>6.984127</td>\n",
       "      <td>1.023810</td>\n",
       "      <td>322.0</td>\n",
       "      <td>2.555556</td>\n",
       "      <td>37.88</td>\n",
       "      <td>-122.23</td>\n",
       "      <td>4.526</td>\n",
       "    </tr>\n",
       "    <tr>\n",
       "      <th>1</th>\n",
       "      <td>8.3014</td>\n",
       "      <td>21.0</td>\n",
       "      <td>6.238137</td>\n",
       "      <td>0.971880</td>\n",
       "      <td>2401.0</td>\n",
       "      <td>2.109842</td>\n",
       "      <td>37.86</td>\n",
       "      <td>-122.22</td>\n",
       "      <td>3.585</td>\n",
       "    </tr>\n",
       "    <tr>\n",
       "      <th>2</th>\n",
       "      <td>7.2574</td>\n",
       "      <td>52.0</td>\n",
       "      <td>8.288136</td>\n",
       "      <td>1.073446</td>\n",
       "      <td>496.0</td>\n",
       "      <td>2.802260</td>\n",
       "      <td>37.85</td>\n",
       "      <td>-122.24</td>\n",
       "      <td>3.521</td>\n",
       "    </tr>\n",
       "    <tr>\n",
       "      <th>3</th>\n",
       "      <td>5.6431</td>\n",
       "      <td>52.0</td>\n",
       "      <td>5.817352</td>\n",
       "      <td>1.073059</td>\n",
       "      <td>558.0</td>\n",
       "      <td>2.547945</td>\n",
       "      <td>37.85</td>\n",
       "      <td>-122.25</td>\n",
       "      <td>3.413</td>\n",
       "    </tr>\n",
       "    <tr>\n",
       "      <th>4</th>\n",
       "      <td>3.8462</td>\n",
       "      <td>52.0</td>\n",
       "      <td>6.281853</td>\n",
       "      <td>1.081081</td>\n",
       "      <td>565.0</td>\n",
       "      <td>2.181467</td>\n",
       "      <td>37.85</td>\n",
       "      <td>-122.25</td>\n",
       "      <td>3.422</td>\n",
       "    </tr>\n",
       "    <tr>\n",
       "      <th>...</th>\n",
       "      <td>...</td>\n",
       "      <td>...</td>\n",
       "      <td>...</td>\n",
       "      <td>...</td>\n",
       "      <td>...</td>\n",
       "      <td>...</td>\n",
       "      <td>...</td>\n",
       "      <td>...</td>\n",
       "      <td>...</td>\n",
       "    </tr>\n",
       "    <tr>\n",
       "      <th>20635</th>\n",
       "      <td>1.5603</td>\n",
       "      <td>25.0</td>\n",
       "      <td>5.045455</td>\n",
       "      <td>1.133333</td>\n",
       "      <td>845.0</td>\n",
       "      <td>2.560606</td>\n",
       "      <td>39.48</td>\n",
       "      <td>-121.09</td>\n",
       "      <td>0.781</td>\n",
       "    </tr>\n",
       "    <tr>\n",
       "      <th>20636</th>\n",
       "      <td>2.5568</td>\n",
       "      <td>18.0</td>\n",
       "      <td>6.114035</td>\n",
       "      <td>1.315789</td>\n",
       "      <td>356.0</td>\n",
       "      <td>3.122807</td>\n",
       "      <td>39.49</td>\n",
       "      <td>-121.21</td>\n",
       "      <td>0.771</td>\n",
       "    </tr>\n",
       "    <tr>\n",
       "      <th>20637</th>\n",
       "      <td>1.7000</td>\n",
       "      <td>17.0</td>\n",
       "      <td>5.205543</td>\n",
       "      <td>1.120092</td>\n",
       "      <td>1007.0</td>\n",
       "      <td>2.325635</td>\n",
       "      <td>39.43</td>\n",
       "      <td>-121.22</td>\n",
       "      <td>0.923</td>\n",
       "    </tr>\n",
       "    <tr>\n",
       "      <th>20638</th>\n",
       "      <td>1.8672</td>\n",
       "      <td>18.0</td>\n",
       "      <td>5.329513</td>\n",
       "      <td>1.171920</td>\n",
       "      <td>741.0</td>\n",
       "      <td>2.123209</td>\n",
       "      <td>39.43</td>\n",
       "      <td>-121.32</td>\n",
       "      <td>0.847</td>\n",
       "    </tr>\n",
       "    <tr>\n",
       "      <th>20639</th>\n",
       "      <td>2.3886</td>\n",
       "      <td>16.0</td>\n",
       "      <td>5.254717</td>\n",
       "      <td>1.162264</td>\n",
       "      <td>1387.0</td>\n",
       "      <td>2.616981</td>\n",
       "      <td>39.37</td>\n",
       "      <td>-121.24</td>\n",
       "      <td>0.894</td>\n",
       "    </tr>\n",
       "  </tbody>\n",
       "</table>\n",
       "<p>20640 rows × 9 columns</p>\n",
       "</div>"
      ],
      "text/plain": [
       "       MedInc  HouseAge  AveRooms  AveBedrms  Population  AveOccup  Latitude  \\\n",
       "0      8.3252      41.0  6.984127   1.023810       322.0  2.555556     37.88   \n",
       "1      8.3014      21.0  6.238137   0.971880      2401.0  2.109842     37.86   \n",
       "2      7.2574      52.0  8.288136   1.073446       496.0  2.802260     37.85   \n",
       "3      5.6431      52.0  5.817352   1.073059       558.0  2.547945     37.85   \n",
       "4      3.8462      52.0  6.281853   1.081081       565.0  2.181467     37.85   \n",
       "...       ...       ...       ...        ...         ...       ...       ...   \n",
       "20635  1.5603      25.0  5.045455   1.133333       845.0  2.560606     39.48   \n",
       "20636  2.5568      18.0  6.114035   1.315789       356.0  3.122807     39.49   \n",
       "20637  1.7000      17.0  5.205543   1.120092      1007.0  2.325635     39.43   \n",
       "20638  1.8672      18.0  5.329513   1.171920       741.0  2.123209     39.43   \n",
       "20639  2.3886      16.0  5.254717   1.162264      1387.0  2.616981     39.37   \n",
       "\n",
       "       Longitude  PRICE  \n",
       "0        -122.23  4.526  \n",
       "1        -122.22  3.585  \n",
       "2        -122.24  3.521  \n",
       "3        -122.25  3.413  \n",
       "4        -122.25  3.422  \n",
       "...          ...    ...  \n",
       "20635    -121.09  0.781  \n",
       "20636    -121.21  0.771  \n",
       "20637    -121.22  0.923  \n",
       "20638    -121.32  0.847  \n",
       "20639    -121.24  0.894  \n",
       "\n",
       "[20640 rows x 9 columns]"
      ]
     },
     "execution_count": 1,
     "metadata": {},
     "output_type": "execute_result"
    }
   ],
   "source": [
    "import numpy as np\n",
    "import pandas as pd\n",
    "import seaborn as sns\n",
    "from sklearn.model_selection import train_test_split\n",
    "import tensorflow as tf\n",
    "from tensorflow import keras\n",
    "file_path = \"/Users/yunseongmun/Documents/Ai_Lecture/data/boston.csv\"\n",
    "df = pd.read_csv(file_path, index_col=0)\n",
    "df"
   ]
  },
  {
   "cell_type": "markdown",
   "metadata": {},
   "source": [
    "| MedInc | 블록의 중간 소득 |\n",
    "| HouseAge | 블록의 중간 주택 연도 |\n",
    "| AveRooms | 주택 1가구당 평균 방의 수 |\n",
    "| AveBedrms | 주택 1가구당 평균 침실의 수 |\n",
    "| Population | 인구 |\n",
    "| AveOccup |  average house occupancy 평균 주택점유율 |\n",
    "| Latitude | 위도 |\n",
    "| Longitude | 경도 |"
   ]
  },
  {
   "cell_type": "code",
   "execution_count": 2,
   "metadata": {},
   "outputs": [
    {
     "data": {
      "image/png": "[encoded data removed]",
      "text/plain": [
       "<Figure size 1000x1000 with 1 Axes>"
      ]
     },
     "metadata": {},
     "output_type": "display_data"
    }
   ],
   "source": [
    "import matplotlib.pyplot as plt\n",
    "#상관 관계 행렬\n",
    "# 0.3 이상인 경우 상관관계가 있고, 0.7이상이면 아주 높음\n",
    "\n",
    "df_corr=df.corr()\n",
    "\n",
    "#히트맵\n",
    "plt.figure(figsize=(10,10))\n",
    "sns.set(font_scale=0.8)\n",
    "sns.heatmap(df_corr, annot=True, cbar=False)\n",
    "plt.show()\n",
    "\n",
    "# PRICE와 높은 건  MedInc"
   ]
  },
  {
   "cell_type": "markdown",
   "metadata": {},
   "source": [
    "### 최소 MSE 찾기 (단, Price를 label로 가정)\n",
    "data set 종류:  \n",
    "1. all feature \n",
    "2. Price와 상관관계가 음수인 feature 제거.  \n",
    "3. 2번에서 HouseAge 제거\n",
    "4. 2번에서 AveRooms 제거\n",
    "5. 2번에서 MedInc 제거\n",
    "\n",
    "위 5가지 데이터 셋의 mse를 비교하여 최소 mse를 찾는다."
   ]
  },
  {
   "cell_type": "code",
   "execution_count": 3,
   "metadata": {},
   "outputs": [],
   "source": [
    "from sklearn.model_selection import train_test_split\n",
    "from sklearn.linear_model import LinearRegression\n",
    "from sklearn.metrics import mean_squared_error, r2_score"
   ]
  },
  {
   "cell_type": "code",
   "execution_count": 4,
   "metadata": {},
   "outputs": [
    {
     "data": {
      "text/html": [
       "<div>\n",
       "<style scoped>\n",
       "    .dataframe tbody tr th:only-of-type {\n",
       "        vertical-align: middle;\n",
       "    }\n",
       "\n",
       "    .dataframe tbody tr th {\n",
       "        vertical-align: top;\n",
       "    }\n",
       "\n",
       "    .dataframe thead th {\n",
       "        text-align: right;\n",
       "    }\n",
       "</style>\n",
       "<table border=\"1\" class=\"dataframe\">\n",
       "  <thead>\n",
       "    <tr style=\"text-align: right;\">\n",
       "      <th></th>\n",
       "      <th>MedInc</th>\n",
       "      <th>HouseAge</th>\n",
       "      <th>AveRooms</th>\n",
       "      <th>AveBedrms</th>\n",
       "      <th>Population</th>\n",
       "      <th>AveOccup</th>\n",
       "      <th>Latitude</th>\n",
       "      <th>Longitude</th>\n",
       "    </tr>\n",
       "  </thead>\n",
       "  <tbody>\n",
       "    <tr>\n",
       "      <th>0</th>\n",
       "      <td>8.3252</td>\n",
       "      <td>41.0</td>\n",
       "      <td>6.984127</td>\n",
       "      <td>1.023810</td>\n",
       "      <td>322.0</td>\n",
       "      <td>2.555556</td>\n",
       "      <td>37.88</td>\n",
       "      <td>-122.23</td>\n",
       "    </tr>\n",
       "    <tr>\n",
       "      <th>1</th>\n",
       "      <td>8.3014</td>\n",
       "      <td>21.0</td>\n",
       "      <td>6.238137</td>\n",
       "      <td>0.971880</td>\n",
       "      <td>2401.0</td>\n",
       "      <td>2.109842</td>\n",
       "      <td>37.86</td>\n",
       "      <td>-122.22</td>\n",
       "    </tr>\n",
       "    <tr>\n",
       "      <th>2</th>\n",
       "      <td>7.2574</td>\n",
       "      <td>52.0</td>\n",
       "      <td>8.288136</td>\n",
       "      <td>1.073446</td>\n",
       "      <td>496.0</td>\n",
       "      <td>2.802260</td>\n",
       "      <td>37.85</td>\n",
       "      <td>-122.24</td>\n",
       "    </tr>\n",
       "    <tr>\n",
       "      <th>3</th>\n",
       "      <td>5.6431</td>\n",
       "      <td>52.0</td>\n",
       "      <td>5.817352</td>\n",
       "      <td>1.073059</td>\n",
       "      <td>558.0</td>\n",
       "      <td>2.547945</td>\n",
       "      <td>37.85</td>\n",
       "      <td>-122.25</td>\n",
       "    </tr>\n",
       "    <tr>\n",
       "      <th>4</th>\n",
       "      <td>3.8462</td>\n",
       "      <td>52.0</td>\n",
       "      <td>6.281853</td>\n",
       "      <td>1.081081</td>\n",
       "      <td>565.0</td>\n",
       "      <td>2.181467</td>\n",
       "      <td>37.85</td>\n",
       "      <td>-122.25</td>\n",
       "    </tr>\n",
       "  </tbody>\n",
       "</table>\n",
       "</div>"
      ],
      "text/plain": [
       "   MedInc  HouseAge  AveRooms  AveBedrms  Population  AveOccup  Latitude  \\\n",
       "0  8.3252      41.0  6.984127   1.023810       322.0  2.555556     37.88   \n",
       "1  8.3014      21.0  6.238137   0.971880      2401.0  2.109842     37.86   \n",
       "2  7.2574      52.0  8.288136   1.073446       496.0  2.802260     37.85   \n",
       "3  5.6431      52.0  5.817352   1.073059       558.0  2.547945     37.85   \n",
       "4  3.8462      52.0  6.281853   1.081081       565.0  2.181467     37.85   \n",
       "\n",
       "   Longitude  \n",
       "0    -122.23  \n",
       "1    -122.22  \n",
       "2    -122.24  \n",
       "3    -122.25  \n",
       "4    -122.25  "
      ]
     },
     "execution_count": 4,
     "metadata": {},
     "output_type": "execute_result"
    }
   ],
   "source": [
    "X = df.drop('PRICE',axis=1)\n",
    "X.head()"
   ]
  },
  {
   "cell_type": "code",
   "execution_count": 5,
   "metadata": {},
   "outputs": [
    {
     "data": {
      "text/plain": [
       "0    4.526\n",
       "1    3.585\n",
       "2    3.521\n",
       "3    3.413\n",
       "4    3.422\n",
       "Name: PRICE, dtype: float64"
      ]
     },
     "execution_count": 5,
     "metadata": {},
     "output_type": "execute_result"
    }
   ],
   "source": [
    "y = df['PRICE']\n",
    "y.head()"
   ]
  },
  {
   "cell_type": "code",
   "execution_count": 6,
   "metadata": {},
   "outputs": [
    {
     "name": "stdout",
     "output_type": "stream",
     "text": [
      "(x0,y) train: (16512, 8), (16512,)\n",
      "(x0,y) test: (4128, 8), (4128,)\n",
      "--------------------------------\n",
      "(x1,y) train: (16512, 3), (16512,)\n",
      "(x1,y) test: (4128, 3), (4128,)\n",
      "--------------------------------\n",
      "(x2,y) train: (16512, 2), (16512,)\n",
      "(x2,y) test: (4128, 2), (4128,)\n",
      "--------------------------------\n",
      "(x3,y) train: (16512, 2), (16512,)\n",
      "(x3,y) test: (4128, 2), (4128,)\n",
      "--------------------------------\n",
      "(x4,y) train: (16512, 2), (16512,)\n",
      "(x4,y) test: (4128, 2), (4128,)\n",
      "--------------------------------\n"
     ]
    }
   ],
   "source": [
    "from sklearn.model_selection import train_test_split\n",
    "\n",
    "\n",
    "X_train, X_test, y_train, y_test=train_test_split(X,\n",
    "                                                    y,\n",
    "                                                    test_size=0.2,\n",
    "                                                    shuffle=True,\n",
    "                                                    random_state=12)\n",
    "\n",
    "dx_train = []\n",
    "dx_test =[]\n",
    "# 0번 df : 모든 feature존재\n",
    "dx_train.append(X_train.copy())\n",
    "dx_test.append(X_test.copy())\n",
    "# 1번 df : PRICE와 상관관계가 음수인 feature 제거\n",
    "columns_to_drop = dx_train[0].loc[:, 'AveBedrms':'Longitude'].columns\n",
    "dx_train.append(dx_train[0].drop(columns=columns_to_drop))\n",
    "\n",
    "columns_to_drop = dx_test[0].loc[:, 'AveBedrms':'Longitude'].columns\n",
    "dx_test.append(dx_test[0].drop(columns=columns_to_drop))\n",
    "\n",
    "# 2번 df : 1번에서 HouseAge 제거\n",
    "dx_train.append(dx_train[1].drop('HouseAge',axis=1))\n",
    "dx_test.append(dx_test[1].drop('HouseAge',axis=1))\n",
    "# 3번 df : 1번에서 AveRooms 제거\n",
    "dx_train.append(dx_train[1].drop('AveRooms',axis=1))\n",
    "dx_test.append(dx_test[1].drop('AveRooms',axis=1))\n",
    "# 4번 df : 1번에서 MedInc 제거\n",
    "dx_train.append(dx_train[1].drop('MedInc',axis=1))\n",
    "dx_test.append(dx_test[1].drop('MedInc',axis=1))\n",
    "\n",
    "for i in range(5):\n",
    "    print(f'(x{i},y) train: {dx_train[i].shape}, {y_train.shape}')\n",
    "    print(f'(x{i},y) test: {dx_test[i].shape}, {y_test.shape}')\n",
    "    print('--------------------------------')\n",
    "\n"
   ]
  },
  {
   "cell_type": "code",
   "execution_count": 7,
   "metadata": {},
   "outputs": [
    {
     "name": "stdout",
     "output_type": "stream",
     "text": [
      "평균제곱근오차0 0.5269927956248033\n",
      "평균제곱근오차1 0.6505245697389264\n",
      "평균제곱근오차2 0.6916011698420803\n",
      "평균제곱근오차3 0.6562186483378228\n",
      "평균제곱근오차4 1.3095031173587612\n"
     ]
    }
   ],
   "source": [
    "from sklearn.linear_model import LinearRegression\n",
    "\n",
    "model=[]\n",
    "for i in range(5):\n",
    "    model.append(LinearRegression())\n",
    "    model[i].fit(dx_train[i], y_train)\n",
    "\n",
    "from sklearn.metrics import mean_squared_error\n",
    "\n",
    "ly_preds = []\n",
    "for i in range(5):\n",
    "    ly_preds.append(model[i].predict(dx_test[i]))\n",
    "    print(f'평균제곱근오차{i}', mean_squared_error(ly_preds[i], y_test))\n",
    "\n",
    "# 모든 feature가 있을 때, mse가 가장 작다.\n",
    "# feature를 없앨수록 mse가 커진다.\n",
    "# 3번 df가 2번 df보다 상관관계가 높은 feature를 제거했음에도 2번 mse가 3번 mse보다 크다.\n",
    "# 상관관계의 차이가 크지 않다면 역전될 수도 있음을 나타낸다"
   ]
  },
  {
   "cell_type": "code",
   "execution_count": 8,
   "metadata": {},
   "outputs": [
    {
     "name": "stdout",
     "output_type": "stream",
     "text": [
      "평균제곱근오차0 0.4761564082603924\n",
      "평균제곱근오차1 1.0710441512458089\n",
      "평균제곱근오차2 1.175705107292902\n",
      "평균제곱근오차3 1.165730356993188\n",
      "평균제곱근오차4 2.1167392900373003\n"
     ]
    }
   ],
   "source": [
    "from sklearn.tree import DecisionTreeRegressor\n",
    "\n",
    "model=[]\n",
    "for i in range(5):\n",
    "    model.append(DecisionTreeRegressor())\n",
    "    model[i].fit(dx_train[i], y_train)\n",
    "\n",
    "from sklearn.metrics import mean_squared_error\n",
    "\n",
    "dy_preds = []\n",
    "for i in range(5):\n",
    "    dy_preds.append(model[i].predict(dx_test[i]))\n",
    "    print(f'평균제곱근오차{i}', mean_squared_error(dy_preds[i], y_test))\n",
    "\n",
    "# 모든 feature가 있을 때, mse가 가장 작다.\n",
    "# feature를 없앨수록 mse가 커진다.\n",
    "# 3번 df가 2번 df보다 상관관계가 높은 feature를 제거했음에도 2번 mse가 3번 mse보다 크다.\n",
    "# 상관관계의 차이가 크지 않다면 역전될 수도 있음을 나타낸다"
   ]
  },
  {
   "cell_type": "code",
   "execution_count": 9,
   "metadata": {},
   "outputs": [
    {
     "name": "stdout",
     "output_type": "stream",
     "text": [
      "평균제곱근오차0 0.2511708047839589\n",
      "평균제곱근오차1 0.5792138509544983\n",
      "평균제곱근오차2 0.6880765616391006\n",
      "평균제곱근오차3 0.7536941047359186\n",
      "평균제곱근오차4 1.3263409642124413\n"
     ]
    }
   ],
   "source": [
    "from sklearn.ensemble import RandomForestRegressor\n",
    "\n",
    "model=[]\n",
    "for i in range(5):\n",
    "    model.append(RandomForestRegressor())\n",
    "    model[i].fit(dx_train[i], y_train)\n",
    "\n",
    "from sklearn.metrics import mean_squared_error\n",
    "\n",
    "ry_preds = []\n",
    "for i in range(5):\n",
    "    ry_preds.append(model[i].predict(dx_test[i]))\n",
    "    print(f'평균제곱근오차{i}', mean_squared_error(ry_preds[i], y_test))\n",
    "\n",
    "# 모든 feature가 있을 때, mse가 가장 작다.\n",
    "# feature를 없앨수록 mse가 커진다.\n",
    "# 상관관계가 큰 feature를 없앨수록 mse가 커진다."
   ]
  },
  {
   "cell_type": "markdown",
   "metadata": {},
   "source": []
  },
  {
   "cell_type": "code",
   "execution_count": 11,
   "metadata": {},
   "outputs": [
    {
     "name": "stdout",
     "output_type": "stream",
     "text": [
      "평균제곱근오차0 1.2087958796688048\n",
      "평균제곱근오차1 0.6762059731382235\n",
      "평균제곱근오차2 0.7195815689617978\n",
      "평균제곱근오차3 0.6848485708901485\n",
      "평균제곱근오차4 1.3407138963427343\n"
     ]
    }
   ],
   "source": [
    "from sklearn.svm import SVR\n",
    "\n",
    "model=[]\n",
    "for i in range(5):\n",
    "    model.append(SVR(kernel='linear'))\n",
    "    model[i].fit(dx_train[i], y_train)\n",
    "\n",
    "from sklearn.metrics import mean_squared_error\n",
    "\n",
    "ry_preds = []\n",
    "for i in range(5):\n",
    "    ry_preds.append(model[i].predict(dx_test[i]))\n",
    "    print(f'평균제곱근오차{i}', mean_squared_error(ry_preds[i], y_test))"
   ]
  },
  {
   "cell_type": "code",
   "execution_count": 10,
   "metadata": {},
   "outputs": [
    {
     "name": "stdout",
     "output_type": "stream",
     "text": [
      "평균제곱근오차0 1.1592442931730156\n",
      "평균제곱근오차1 0.5994302319787366\n",
      "평균제곱근오차2 0.6690716835624058\n",
      "평균제곱근오차3 0.6813807275496803\n",
      "평균제곱근오차4 1.2372257228683\n"
     ]
    }
   ],
   "source": [
    "from sklearn.neighbors import KNeighborsRegressor\n",
    "\n",
    "model=[]\n",
    "for i in range(5):\n",
    "    model.append(KNeighborsRegressor(n_neighbors=6))\n",
    "    model[i].fit(dx_train[i], y_train)\n",
    "\n",
    "from sklearn.metrics import mean_squared_error\n",
    "\n",
    "knn_preds = []\n",
    "for i in range(5):\n",
    "    knn_preds.append(model[i].predict(dx_test[i]))\n",
    "    print(f'평균제곱근오차{i}', mean_squared_error(knn_preds[i], y_test))\n",
    "\n",
    "# knn 알고리즘에서만, 모든 feature가 존재할 때, mse가 가장 크다.\n",
    "# 상관관계가 음수인 feature를 모두 제외했을 때가 가장 작다."
   ]
  },
  {
   "cell_type": "markdown",
   "metadata": {},
   "source": [
    "### 결론\n",
    "\n",
    "최소 MSE = 0.254108644310383 \n",
    "1. RandomForest 모델\n",
    "2. 모든 feature가 있을 때  \n",
    "  \n",
    "위 두조건을 만족했을 때가 가장 mse가 작다.  \n",
    "knn을 제외한 나머지 모델들은 이미 데이터에 적합하거나 underfitting인 모델이다.  \n",
    "그래서, feature selection을 진행하면, underfitting이 악화된다.  \n",
    "\n",
    "반면, knn의 경우, 모든 feature가 있었을 때는 overfitting이였다가   \n",
    "상관관계가 양수인 feature에 한해서만 feature selection을 진행한후 모델이 개선되었다.  \n",
    "하지만, 여기서 더 feature를 제거하면, underfitting으로 악화된다.  "
   ]
  }
 ],
 "metadata": {
  "kernelspec": {
   "display_name": "base",
   "language": "python",
   "name": "python3"
  },
  "language_info": {
   "codemirror_mode": {
    "name": "ipython",
    "version": 3
   },
   "file_extension": ".py",
   "mimetype": "text/x-python",
   "name": "python",
   "nbconvert_exporter": "python",
   "pygments_lexer": "ipython3",
   "version": "3.11.5"
  }
 },
 "nbformat": 4,
 "nbformat_minor": 2
}
