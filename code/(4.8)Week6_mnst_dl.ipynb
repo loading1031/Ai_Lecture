{
 "cells": [
  {
   "cell_type": "markdown",
   "metadata": {},
   "source": [
    "\n",
    "## 인공지능 개론 6주차"
   ]
  },
  {
   "cell_type": "markdown",
   "metadata": {},
   "source": [
    "#### 실습 126p - 딥러닝"
   ]
  },
  {
   "cell_type": "code",
   "execution_count": 7,
   "metadata": {},
   "outputs": [],
   "source": [
    "import matplotlib.pyplot as plt\n",
    "from sklearn import datasets, metrics\n",
    "from sklearn.model_selection import train_test_split\n",
    "\n",
    "digits = datasets.load_digits()"
   ]
  },
  {
   "cell_type": "code",
   "execution_count": 9,
   "metadata": {},
   "outputs": [],
   "source": [
    "import numpy as np\n",
    "from keras.models import Sequential\n",
    "from keras.layers import Dense\n",
    "from keras.utils import np_utils\n",
    "# 데이터 준비\n",
    "X = digits.images.reshape((digits.images.shape[0], -1))  # 이미지를 1D 배열로 변환\n",
    "y = np_utils.to_categorical(digits.target, 10)  # 원-핫 인코딩"
   ]
  },
  {
   "cell_type": "code",
   "execution_count": 10,
   "metadata": {},
   "outputs": [],
   "source": [
    "# 데이터 분할\n",
    "X_train, X_test, y_train, y_test = train_test_split(X, y, test_size=0.2, random_state=42)"
   ]
  },
  {
   "cell_type": "code",
   "execution_count": 11,
   "metadata": {},
   "outputs": [],
   "source": [
    "# 모델 구축\n",
    "model = Sequential([\n",
    "    Dense(64, activation='relu', input_shape=(64,)),  # 64개의 입력 픽셀\n",
    "    Dense(64, activation='relu'),\n",
    "    Dense(10, activation='softmax')  # 10개의 출력 노드 (클래스 수와 동일)\n",
    "])"
   ]
  },
  {
   "cell_type": "code",
   "execution_count": 12,
   "metadata": {},
   "outputs": [],
   "source": [
    "# 모델 컴파일\n",
    "model.compile(optimizer='adam', loss='categorical_crossentropy', metrics=['accuracy'])\n"
   ]
  },
  {
   "cell_type": "code",
   "execution_count": 13,
   "metadata": {},
   "outputs": [
    {
     "name": "stdout",
     "output_type": "stream",
     "text": [
      "Epoch 1/10\n"
     ]
    },
    {
     "name": "stderr",
     "output_type": "stream",
     "text": [
      "2024-04-08 10:58:49.562843: W tensorflow/tsl/platform/profile_utils/cpu_utils.cc:128] Failed to get CPU frequency: 0 Hz\n"
     ]
    },
    {
     "name": "stdout",
     "output_type": "stream",
     "text": [
      "36/36 [==============================] - 0s 5ms/step - loss: 2.5402 - accuracy: 0.3803 - val_loss: 0.8706 - val_accuracy: 0.7014\n",
      "Epoch 2/10\n",
      "36/36 [==============================] - 0s 1ms/step - loss: 0.5757 - accuracy: 0.8138 - val_loss: 0.4335 - val_accuracy: 0.8715\n",
      "Epoch 3/10\n",
      "36/36 [==============================] - 0s 1ms/step - loss: 0.2943 - accuracy: 0.9077 - val_loss: 0.3316 - val_accuracy: 0.8889\n",
      "Epoch 4/10\n",
      "36/36 [==============================] - 0s 2ms/step - loss: 0.1773 - accuracy: 0.9460 - val_loss: 0.2610 - val_accuracy: 0.8958\n",
      "Epoch 5/10\n",
      "36/36 [==============================] - 0s 2ms/step - loss: 0.1196 - accuracy: 0.9748 - val_loss: 0.2215 - val_accuracy: 0.9306\n",
      "Epoch 6/10\n",
      "36/36 [==============================] - 0s 2ms/step - loss: 0.0891 - accuracy: 0.9800 - val_loss: 0.2236 - val_accuracy: 0.9340\n",
      "Epoch 7/10\n",
      "36/36 [==============================] - 0s 1ms/step - loss: 0.0635 - accuracy: 0.9869 - val_loss: 0.1798 - val_accuracy: 0.9375\n",
      "Epoch 8/10\n",
      "36/36 [==============================] - 0s 1ms/step - loss: 0.0504 - accuracy: 0.9922 - val_loss: 0.1679 - val_accuracy: 0.9514\n",
      "Epoch 9/10\n",
      "36/36 [==============================] - 0s 3ms/step - loss: 0.0390 - accuracy: 0.9956 - val_loss: 0.1552 - val_accuracy: 0.9549\n",
      "Epoch 10/10\n",
      "36/36 [==============================] - 0s 1ms/step - loss: 0.0325 - accuracy: 0.9956 - val_loss: 0.1570 - val_accuracy: 0.9514\n"
     ]
    },
    {
     "data": {
      "text/plain": [
       "<keras.callbacks.History at 0x169c0d710>"
      ]
     },
     "execution_count": 13,
     "metadata": {},
     "output_type": "execute_result"
    }
   ],
   "source": [
    "# 모델 훈련\n",
    "model.fit(X_train, y_train, epochs=10, batch_size=32, validation_split=0.2)"
   ]
  },
  {
   "cell_type": "code",
   "execution_count": 14,
   "metadata": {},
   "outputs": [
    {
     "name": "stdout",
     "output_type": "stream",
     "text": [
      "12/12 [==============================] - 0s 754us/step - loss: 0.1147 - accuracy: 0.9583\n",
      "Test loss: 0.115, Test accuracy: 0.958\n"
     ]
    }
   ],
   "source": [
    "# 모델 평가\n",
    "loss, accuracy = model.evaluate(X_test, y_test)\n",
    "print(f'Test loss: {loss:.3f}, Test accuracy: {accuracy:.3f}')"
   ]
  }
 ],
 "metadata": {
  "kernelspec": {
   "display_name": "base",
   "language": "python",
   "name": "python3"
  },
  "language_info": {
   "codemirror_mode": {
    "name": "ipython",
    "version": 3
   },
   "file_extension": ".py",
   "mimetype": "text/x-python",
   "name": "python",
   "nbconvert_exporter": "python",
   "pygments_lexer": "ipython3",
   "version": "3.11.5"
  }
 },
 "nbformat": 4,
 "nbformat_minor": 2
}
